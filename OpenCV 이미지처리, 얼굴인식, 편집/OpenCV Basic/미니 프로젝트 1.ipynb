{
 "cells": [
  {
   "cell_type": "markdown",
   "metadata": {},
   "source": [
    "## 미니 프로젝트 : 반자동 문서 스캐너"
   ]
  },
  {
   "cell_type": "markdown",
   "metadata": {},
   "source": [
    "### 마우스 이벤트 등록"
   ]
  },
  {
   "cell_type": "code",
   "execution_count": null,
   "metadata": {},
   "outputs": [],
   "source": [
    "import cv2\n",
    "def mouse_handler(event,x,y,flags,param):\n",
    "    if event==cv2.EVENT_LBUTTONDOWN: #마우스 왼쪽 버튼 누름\n",
    "        print('왼쪽 버튼 Down')\n",
    "        print(x,y)\n",
    "    elif event==cv2.EVENT_LBUTTONUP:\n",
    "        print('왼쪽 버튼 up')\n",
    "        print(x,y)\n",
    "    elif event==cv2.EVENT_LBUTTONDBLCLK: #마우스 왼쪽 버튼 더블클릭\n",
    "        print('왼쪽 버튼 더블 클릭')\n",
    "    elif event==cv2.EVENT_MOUSEMOVE:\n",
    "        print('마우스 이동')\n",
    "    elif event==cv2.EVENT_RBUTTONDOWN: #마우스 오르쪽 버튼 누름\n",
    "        print('오른쪽 버튼 Down')\n",
    "        \n",
    "    \n",
    "img=cv2.imread('poker.jpg')\n",
    "cv2.namedWindow('img')#img란 이름의 윈도우를 먼저 만들어둠. 이 곳에 이벤트를 처리하기 위한 핸들러를 적용한다.\n",
    "cv2.setMouseCallback('img', mouse_handler)\n",
    "\n",
    "cv2.imshow('img',img)\n",
    "cv2.waitKey(0)\n",
    "cv2.destroyAllWindows()"
   ]
  },
  {
   "cell_type": "markdown",
   "metadata": {},
   "source": [
    "### 프로젝트"
   ]
  },
  {
   "cell_type": "code",
   "execution_count": 1,
   "metadata": {},
   "outputs": [],
   "source": [
    "import cv2\n",
    "import numpy as np\n",
    "\n",
    "point_list=[]\n",
    "src_img=cv2.imread('poker.jpg')\n",
    "\n",
    "COLOR=(0,0,0)\n",
    "THICKNESS=3\n",
    "drawing=False#선을 그릴지 여부\n",
    "\n",
    "def mouse_handler(event,x,y,flags,param):\n",
    "    global drawing\n",
    "    dst_img=src_img.copy()\n",
    "    \n",
    "    if event==cv2.EVENT_LBUTTONDOWN: #마우스 왼쪽 버튼 누름\n",
    "        drawing=True #선을 그리기 시작\n",
    "        point_list.append((x,y))#튜플 형태로 삽입\n",
    "    \n",
    "    if drawing:\n",
    "        prev_point=None #직선의 시작점\n",
    "        \n",
    "        for point in point_list:\n",
    "            cv2.circle(dst_img,point,10,COLOR,cv2.FILLED)\n",
    "            if prev_point:\n",
    "                cv2.line(dst_img,prev_point,point,COLOR,THICKNESS,cv2.LINE_AA)\n",
    "            prev_point=point#선 드로잉 후 prev_point를 현재 point로 업데이트\n",
    "\n",
    "        next_point=(x,y)\n",
    "        if len(point_list)==4:\n",
    "            show_result()#결과 출력\n",
    "            next_point=point_list[0]#마지막 점을 첫번째 지점으로\n",
    "            \n",
    "        cv2.line(dst_img,prev_point,next_point,COLOR,THICKNESS,cv2.LINE_AA)\n",
    "        \n",
    "    \n",
    "    cv2.imshow('img',dst_img)\n",
    "\n",
    "def show_result():\n",
    "    width,height=530,710\n",
    "    src=np.float32(point_list)#input 4개 지점 : 좌측 상단부터 시계방향\n",
    "    dst=np.array([[0,0],[width,0],[width,height],[0,height]],dtype=np.float32)#output 4개 지점\n",
    "\n",
    "    matrix=cv2.getPerspectiveTransform(src,dst)#Matrix 얻어옴\n",
    "    result=cv2.warpPerspective(src_img,matrix,(width,height))#Matrix대로 변환\n",
    "    cv2.imshow('result',result)\n",
    "        \n",
    "cv2.namedWindow('img')#img란 이름의 윈도우를 먼저 만들어둠. 이 곳에 이벤트를 처리하기 위한 핸들러를 적용한다.\n",
    "cv2.setMouseCallback('img', mouse_handler)\n",
    "\n",
    "cv2.imshow('img',src_img)\n",
    "cv2.waitKey(0)\n",
    "cv2.destroyAllWindows()\n"
   ]
  }
 ],
 "metadata": {
  "interpreter": {
   "hash": "42588fd11209419b7c81abe23e31a1d2101f60811b02170c268e57ebb57d5d9a"
  },
  "kernelspec": {
   "display_name": "Python 3.9.7 ('base')",
   "language": "python",
   "name": "python3"
  },
  "language_info": {
   "codemirror_mode": {
    "name": "ipython",
    "version": 3
   },
   "file_extension": ".py",
   "mimetype": "text/x-python",
   "name": "python",
   "nbconvert_exporter": "python",
   "pygments_lexer": "ipython3",
   "version": "3.9.7"
  },
  "orig_nbformat": 4
 },
 "nbformat": 4,
 "nbformat_minor": 2
}
