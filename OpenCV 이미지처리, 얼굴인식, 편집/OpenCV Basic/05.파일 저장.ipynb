{
 "cells": [
  {
   "cell_type": "markdown",
   "metadata": {},
   "source": [
    "# 5. 파일 저장"
   ]
  },
  {
   "cell_type": "markdown",
   "metadata": {},
   "source": [
    "이미지 저장\n",
    "1. import cv2\n",
    "1. img=cv2.imread('img.jpg',cv2.IMREAD_GRAYSCALE)\n",
    "1. cv2.imwrite(\"img_save.jpg\",img)"
   ]
  },
  {
   "cell_type": "code",
   "execution_count": 1,
   "metadata": {},
   "outputs": [
    {
     "name": "stdout",
     "output_type": "stream",
     "text": [
      "True\n"
     ]
    }
   ],
   "source": [
    "import cv2\n",
    "img=cv2.imread('img.jpg',cv2.IMREAD_GRAYSCALE)\n",
    "cv2.imshow('img',img)\n",
    "cv2.waitKey(0)\n",
    "cv2.destroyAllWindows()\n",
    "\n",
    "result=cv2.imwrite(\"img_save.jpg\",img)#확장자를 바꾸면 저장형식이 바뀐다(jpg,png 등)\n",
    "print(result)"
   ]
  },
  {
   "cell_type": "markdown",
   "metadata": {},
   "source": [
    " 동영상 저장\n",
    "1. import cv2\n",
    "1. cap=cv2.VideoCapture('video.mp4')\n",
    "1. 코덱 정의 : fourcc=cv2.VideoWriter_fourcc(*'DIVX')\n",
    "1. 가로세로 크기, fps 받아오기\n",
    "1. 받아온 데이터를 바탕으로 동영상 저장\n"
   ]
  },
  {
   "cell_type": "code",
   "execution_count": 2,
   "metadata": {},
   "outputs": [],
   "source": [
    "import cv2\n",
    "cap=cv2.VideoCapture('video.mp4')\n",
    "\n",
    "#코덱 정의\n",
    "fourcc=cv2.VideoWriter_fourcc(*'DIVX')\n",
    "\n",
    "#프레임 크기, FPS\n",
    "width=round(cap.get(cv2.CAP_PROP_FRAME_WIDTH))\n",
    "height=round(cap.get(cv2.CAP_PROP_FRAME_HEIGHT))\n",
    "fps=cap.get(cv2.CAP_PROP_FPS)\n",
    "\n",
    "out=cv2.VideoWriter('output.avi',fourcc,fps,(width,height))\n",
    "#저장 파일명, 코덱, FPS, 크기(width,height)\n",
    "\n",
    "while cap.isOpened():\n",
    "    ret,frame=cap.read()\n",
    "    \n",
    "    if not ret:\n",
    "        break\n",
    "    \n",
    "    out.write(frame)#영상 데이터만 저장, 소리는 저장안됨\n",
    "    cv2.imshow('video',frame)\n",
    "    if cv2.waitKey(1)==ord('q'):\n",
    "        break\n",
    "\n",
    "out.release()\n",
    "cap.release()\n",
    "cv2.destroyAllWindows()"
   ]
  }
 ],
 "metadata": {
  "interpreter": {
   "hash": "42588fd11209419b7c81abe23e31a1d2101f60811b02170c268e57ebb57d5d9a"
  },
  "kernelspec": {
   "display_name": "Python 3.9.7 ('base')",
   "language": "python",
   "name": "python3"
  },
  "language_info": {
   "codemirror_mode": {
    "name": "ipython",
    "version": 3
   },
   "file_extension": ".py",
   "mimetype": "text/x-python",
   "name": "python",
   "nbconvert_exporter": "python",
   "pygments_lexer": "ipython3",
   "version": "3.9.7"
  },
  "orig_nbformat": 4
 },
 "nbformat": 4,
 "nbformat_minor": 2
}
